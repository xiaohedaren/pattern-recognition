{
 "cells": [
  {
   "cell_type": "code",
   "execution_count": 1,
   "metadata": {},
   "outputs": [],
   "source": [
    "import pandas as pd\n",
    "import numpy as np\n",
    "import matplotlib.pyplot as plt"
   ]
  },
  {
   "cell_type": "code",
   "execution_count": 2,
   "metadata": {},
   "outputs": [
    {
     "data": {
      "image/png": "[encoded data removed]",
      "text/plain": [
       "<Figure size 432x288 with 1 Axes>"
      ]
     },
     "metadata": {
      "needs_background": "light"
     },
     "output_type": "display_data"
    }
   ],
   "source": [
    "# Create a toy data set for testing purpose\n",
    "#x1 = np.arange(0.0, 7, 0.01)\n",
    "#x2 = np.random.normal(size = len(x1))\n",
    "#x3 = np.random.uniform(1, 2, size = len(x1))\n",
    "#y = x1 * 2 + x2 + x3 + 2\n",
    "x1 = np.arange(-3.5, 3.5, 0.01)\n",
    "np.random.shuffle(x1)\n",
    "x2 = [i**2 for i in x1]\n",
    "x3 = [i**3 for i in x1]\n",
    "x4 = [i**4 for i in x1]\n",
    "x5 = [i**5 for i in x1]\n",
    "# target function\n",
    "y = x1 * 2 + x2 + 2\n",
    "# target curve\n",
    "plt.plot(x1, y, '.', color='b')\n",
    "# proper capacity\n",
    "df = pd.DataFrame({\"x1\":x1, \"x2\":x2, \"y\":y})\n",
    "# smaller capacity\n",
    "#df = pd.DataFrame({\"x1\":x1, \"y\":y})\n",
    "# larger capacity\n",
    "#df = pd.DataFrame({\"x1\":x1, \"x2\":x2, \"x3\":x1, \"x3\":x3, \"x4\":x4, \"x5\":x5, \"y\":y})"
   ]
  },
  {
   "cell_type": "code",
   "execution_count": 3,
   "metadata": {},
   "outputs": [],
   "source": [
    "# Split of training and testing\n",
    "df_train = df.iloc[0:500, :]\n",
    "df_test = df.iloc[501:, :]"
   ]
  },
  {
   "cell_type": "code",
   "execution_count": 4,
   "metadata": {},
   "outputs": [],
   "source": [
    "# Mean squared error function\n",
    "def mean_sqr_error(y, y_hat):\n",
    "    n = y.shape[0]\n",
    "    error = sum((y - y_hat) ** 2) / n\n",
    "    return(error)\n",
    "\n",
    "    \n",
    "# Derivative of squared error\n",
    "def gradient(y, y_hat, x):\n",
    "    d = -np.array(x).T.dot(y - y_hat)\n",
    "    return(d)\n",
    "\n",
    "\n",
    "# Initialise weight vector function   \n",
    "def init_weight(n_vars):\n",
    "    weight = np.random.normal(size = n_vars)\n",
    "    return(weight)\n",
    "\n",
    "\n",
    "# Prediction function\n",
    "def predict(weight, x):\n",
    "    y_hat = x.dot(weight)\n",
    "    return(y_hat)\n"
   ]
  },
  {
   "cell_type": "code",
   "execution_count": 5,
   "metadata": {},
   "outputs": [],
   "source": [
    "# The main SGD function\n",
    "def SGD(x,\n",
    "        y,\n",
    "        batch_size = 5,     # number of observatin per batch\n",
    "        eta = 0.001,        # learning rate\n",
    "        delta_min = 0.0001, # minimum error to terminate SGD\n",
    "        epoch_max = 20):    # max epoch\n",
    "    \n",
    "\n",
    "    # Initialise variables \n",
    "    n_obs = x.shape[0]          # number of observations\n",
    "    x_index = np.arange(n_obs)  # row index for X\n",
    "    epoch_error = []            # to record error    \n",
    "    x['bias'] = 1.0             # add biases to the original X matrix\n",
    "    n_vars = x.shape[1]         # get number of variables in X    \n",
    "    n_batch = int(n_obs / batch_size)   # find out the number of batches\n",
    "    weight = init_weight(n_vars)        # initialise weight vector\n",
    "  \n",
    "\n",
    "    # Iterate through epoch\n",
    "    for epoch in range(epoch_max):       \n",
    "        # Initialise delta weight\n",
    "        weight_delta = np.zeros(weight.shape)        \n",
    "        # Interate through batches \n",
    "        for batch in range(n_batch):            \n",
    "            # Randomly sample observations from X without replacements\n",
    "            batch_index = np.random.choice(x_index, size = batch_size, replace = False)\n",
    "            x_batch = x.iloc[batch_index, :]\n",
    "            y_batch = y[batch_index]           \n",
    "            # Iterate through every observations in the batch\n",
    "            for i in range(batch_size):                \n",
    "                xi = x_batch.iloc[i, :] \n",
    "                yi = y_batch.iloc[i]                \n",
    "                y_hat = predict(weight, xi)     # calculate y_hat\n",
    "                weight_delta = weight_delta + gradient(y = yi, y_hat = y_hat, x = xi)   # calculate gradiant            \n",
    "            # update the weight vector after batch ends\n",
    "            weight = weight - eta * (weight_delta / batch_size)        \n",
    "        # re-estimate y_hat after each epoch and record error (mse)\n",
    "        y_hat = predict(weight, x)\n",
    "        error = mean_sqr_error(y, y_hat)\n",
    "        epoch_error.append(error)\n",
    "        print(error)        \n",
    "        # if the error is small enough, terminate the process        \n",
    "        if error <= delta_min:\n",
    "            break    \n",
    "    # Return weight and error log    \n",
    "    return({\"weight\":weight, \"error\":epoch_error})"
   ]
  },
  {
   "cell_type": "code",
   "execution_count": 6,
   "metadata": {},
   "outputs": [
    {
     "name": "stdout",
     "output_type": "stream",
     "text": [
      "2.7805090812902558\n",
      "2.4983205407549054\n",
      "2.324085020392542\n",
      "1.9345903574959422\n",
      "1.7928926162575067\n",
      "1.5950486784892792\n",
      "1.417723104520771\n",
      "1.2391678871326077\n",
      "1.1319055307578387\n",
      "0.9987440704465316\n",
      "0.8799581770073233\n",
      "0.7968164959894677\n",
      "0.6873242043979398\n",
      "0.6204676114518081\n",
      "0.549574362872665\n",
      "0.49199566909327125\n",
      "0.4401717257451548\n",
      "0.3928681674419873\n",
      "0.353364743073125\n",
      "0.3142349157672654\n",
      "0.27896500715039374\n",
      "0.2523142902231434\n",
      "0.2227623576637979\n",
      "0.20056578475418604\n",
      "0.18283304081029447\n",
      "0.1630380960827577\n",
      "0.1452466737318654\n",
      "0.13086031547997432\n",
      "0.11570475227113551\n",
      "0.1036308691433241\n",
      "0.0920509632083233\n",
      "0.08227670387474896\n",
      "0.07365204204358208\n",
      "0.065395000507791\n",
      "0.058481275082378874\n",
      "0.05248431367618282\n",
      "0.04674943273083185\n",
      "0.04194803372921996\n",
      "0.03714749333451277\n",
      "0.03298928195716283\n",
      "0.030097726152920327\n",
      "0.026956037790444663\n",
      "0.023808169562108426\n",
      "0.021217842626711746\n",
      "0.01896661056862925\n",
      "0.016884531142320285\n",
      "0.015065176887117374\n",
      "0.01345800029098632\n",
      "0.011971458929429005\n",
      "0.010644583260270256\n",
      "0.009874630144728837\n",
      "0.008928960670206374\n",
      "0.007788337985138532\n",
      "0.006780889284402695\n",
      "0.006068127200929083\n",
      "0.005594549012853189\n",
      "0.004857970933887157\n",
      "0.00434136777667182\n",
      "0.0038911099785256865\n",
      "0.0034785633348179963\n",
      "0.003179986442185571\n",
      "0.0029019771009911044\n",
      "0.0025152233041054826\n",
      "0.0022352167773797417\n",
      "0.001995700767712732\n",
      "0.0017729689445770273\n",
      "0.0015909815582795474\n",
      "0.001442424539793202\n",
      "0.0012501100342225337\n",
      "0.001130383487969066\n",
      "0.0010234789312333079\n",
      "0.0008966899450837457\n"
     ]
    },
    {
     "data": {
      "image/png": "[encoded data removed]",
      "text/plain": [
       "<Figure size 432x288 with 1 Axes>"
      ]
     },
     "metadata": {
      "needs_background": "light"
     },
     "output_type": "display_data"
    }
   ],
   "source": [
    "# Feed training set to SGD and build model\n",
    "x_train = df_train.iloc[:, 0:df_train.shape[1]-1]\n",
    "y_train = df_train.y\n",
    "model = SGD(x_train, y_train, batch_size = 10, eta = 0.0001, delta_min = 0.001, epoch_max = 100) # proper or smaller capacity\n",
    "#model = SGD(x_train, y_train, batch_size = 10, eta = 0.0000001, delta_min = 0.001, epoch_max = 100)  # larger capacity\n",
    "# plot loss function(MSE) curve\n",
    "plt.plot(model['error'], color='r')\n",
    "weight = model['weight']"
   ]
  },
  {
   "cell_type": "code",
   "execution_count": 7,
   "metadata": {},
   "outputs": [],
   "source": [
    "# Get testing set and make prediction\n",
    "x_test = df_test.iloc[:, 0:df_test.shape[1]-1]\n",
    "y_test = df_test.y\n",
    "x_test = x_test.copy()\n",
    "x_test['bias'] = 1    \n",
    "y_hat_test = predict(weight, x_test)    "
   ]
  },
  {
   "cell_type": "code",
   "execution_count": 8,
   "metadata": {},
   "outputs": [
    {
     "data": {
      "text/plain": [
       "0.000898611084546389"
      ]
     },
     "execution_count": 8,
     "metadata": {},
     "output_type": "execute_result"
    }
   ],
   "source": [
    "# Print mse of the test\n",
    "mean_sqr_error(y_test, y_hat_test)"
   ]
  },
  {
   "cell_type": "code",
   "execution_count": 9,
   "metadata": {},
   "outputs": [
    {
     "data": {
      "text/plain": [
       "[<matplotlib.lines.Line2D at 0x2aa60fe0860>]"
      ]
     },
     "execution_count": 9,
     "metadata": {},
     "output_type": "execute_result"
    },
    {
     "data": {
      "image/png": "[encoded data removed]",
      "text/plain": [
       "<Figure size 432x288 with 1 Axes>"
      ]
     },
     "metadata": {
      "needs_background": "light"
     },
     "output_type": "display_data"
    }
   ],
   "source": [
    "# Plot actual\n",
    "plt.plot(df_test['x1'], df_test['y'], '.', color='g')"
   ]
  },
  {
   "cell_type": "code",
   "execution_count": 10,
   "metadata": {},
   "outputs": [
    {
     "data": {
      "text/plain": [
       "[<matplotlib.lines.Line2D at 0x2aa6104f080>]"
      ]
     },
     "execution_count": 10,
     "metadata": {},
     "output_type": "execute_result"
    },
    {
     "data": {
      "image/png": "[encoded data removed]",
      "text/plain": [
       "<Figure size 432x288 with 1 Axes>"
      ]
     },
     "metadata": {
      "needs_background": "light"
     },
     "output_type": "display_data"
    }
   ],
   "source": [
    "# Plot predicted\n",
    "df_test = df_test.copy()\n",
    "df_test.loc[:, 'y_hat'] = y_hat_test\n",
    "plt.plot(df_test['x1'], df_test['y_hat'], '.', color='c') "
   ]
  },
  {
   "cell_type": "code",
   "execution_count": 11,
   "metadata": {},
   "outputs": [
    {
     "data": {
      "text/plain": [
       "[<matplotlib.lines.Line2D at 0x2aa610ad710>]"
      ]
     },
     "execution_count": 11,
     "metadata": {},
     "output_type": "execute_result"
    },
    {
     "data": {
      "image/png": "[encoded data removed]",
      "text/plain": [
       "<Figure size 432x288 with 1 Axes>"
      ]
     },
     "metadata": {
      "needs_background": "light"
     },
     "output_type": "display_data"
    }
   ],
   "source": [
    "# plot test error curve\n",
    "plt.plot(df_test['x1'], df_test['y'] - df_test['y_hat'], '.', color='r')"
   ]
  },
  {
   "cell_type": "code",
   "execution_count": 12,
   "metadata": {},
   "outputs": [
    {
     "name": "stdout",
     "output_type": "stream",
     "text": [
      "[2.00052951 1.00591712 1.95511061]\n"
     ]
    }
   ],
   "source": [
    "# compare with closed form solution\n",
    "print(weight)\n",
    "#np.linalg.inv(x_train.T.dot(x_train)).dot(x_train.T).dot(y_train)"
   ]
  },
  {
   "cell_type": "code",
   "execution_count": null,
   "metadata": {},
   "outputs": [],
   "source": []
  }
 ],
 "metadata": {
  "kernelspec": {
   "display_name": "Python 3",
   "language": "python",
   "name": "python3"
  },
  "language_info": {
   "codemirror_mode": {
    "name": "ipython",
    "version": 3
   },
   "file_extension": ".py",
   "mimetype": "text/x-python",
   "name": "python",
   "nbconvert_exporter": "python",
   "pygments_lexer": "ipython3",
   "version": "3.7.1"
  }
 },
 "nbformat": 4,
 "nbformat_minor": 2
}

{
 "cells": [
  {
   "cell_type": "code",
   "execution_count": 2,
   "metadata": {},
   "outputs": [],
   "source": [
    "# 请先写算法再敲代码，多么痛的领悟！\n",
    "import matplotlib.pyplot as plt"
   ]
  },
  {
   "cell_type": "code",
   "execution_count": 3,
   "metadata": {},
   "outputs": [],
   "source": [
    "data_num = 8\n",
    "data_dimen = 2\n",
    "data = [[0, 3], [1, 3], [2, 3], [1, 2], [3, 0], [3, 1], [3, 2], [2, 1]]  # 线性数据\n",
    "#data = [[1, 1], [1, 2], [1, 3], [2, 1], [3, 1], [3, 2], [3, 3], [2, 3]]  # 非线性数据\n",
    "par_list = [1, 1, 1, 1, -1, -1, -1, -1]  # 数据点初始化类别，1 代表一组，值为正，-1 代表一组，值为负\n",
    "for i in range(data_num):  # 对每个数据点加一维\n",
    "    data[i].append(1)\n",
    "w = [[1 for i in range(data_dimen+1)] for j in range(data_num)]  # 初始化权向量组\n",
    "index_w = 0\n",
    "j_w = [0 for i in range(data_num)]  # 存储权向量与数据的内积\n",
    "for i in range(data_num):\n",
    "    for j in range(data_dimen+1):\n",
    "        j_w[i] += w[i][j] * data[i][j]\n",
    "data_judge = [0 for i in range(data_num)]  # 类别指示器\n",
    "for i in range(data_num):\n",
    "    if j_w[i] > 0:\n",
    "        data_judge[i] = 1\n",
    "    elif j_w[i] == 0:\n",
    "        data_judge[i] = 0\n",
    "    else:\n",
    "        data_judge[i] = -1\n",
    "while data_judge != par_list or not w[0]==w[1]==w[2]==w[3]==w[4]==w[5]==w[6]==w[7]:  # 此处w[i]须和data_num保持一致，当满足所有数据点类别正确且所有用户对应权向量一致，则找到解\n",
    "    for i in range(data_num):\n",
    "        next_i = (i+1) % data_num\n",
    "        if data_judge[i] != par_list[i]:  # 找到类别判断错误的数据点，更新权值\n",
    "            for j in range(data_dimen+1):\n",
    "                w[i][j] = w[i][j] + par_list[i] * data[i][j]\n",
    "                index_w += 1\n",
    "        j_w[next_i] = 0  # 利用新权值更新下一个元素的类别\n",
    "        for j in range(data_dimen+1):\n",
    "            j_w[next_i] += w[i][j] * data[next_i][j]\n",
    "        if j_w[next_i] > 0:\n",
    "            data_judge[next_i] = 1\n",
    "        elif j_w[next_i] == 0:\n",
    "            data_judge[next_i] = 0\n",
    "        else:\n",
    "            data_judge[next_i] = -1\n",
    "        w[next_i] = w[i].copy()  # 更新下一权值\n",
    "x = [0, 5]\n",
    "y = []\n",
    "for i in x:\n",
    "    if w[0][1] != 0:\n",
    "        y.append(- w[0][0] * i / w[0][1])"
   ]
  },
  {
   "cell_type": "code",
   "execution_count": 4,
   "metadata": {},
   "outputs": [
    {
     "data": {
      "image/png": "[encoded data removed]",
      "text/plain": [
       "<Figure size 432x288 with 1 Axes>"
      ]
     },
     "metadata": {
      "needs_background": "light"
     },
     "output_type": "display_data"
    }
   ],
   "source": [
    "plt.plot(x, y, linestyle='-', label='perceptron_line', color='g', marker='s')  # 分割线\n",
    "plt.plot([0, 1, 2, 1], [3, 3, 3, 2], 'ro')   # 线性可分数据\n",
    "plt.plot([3, 3, 3, 2], [0, 1, 2, 1], 'bo')   # 线性可分数据\n",
    "#plt.plot([1, 1, 1, 2], [1, 2, 3, 1], 'ro')  # 步长为1时，线性不可分数据\n",
    "#plt.plot([3, 3, 3, 2], [1, 2, 3, 3], 'bo')  # 步长为1时，线性不可分数据\n",
    "plt.xlabel('X')\n",
    "plt.ylabel('Y')\n",
    "plt.legend()\n",
    "plt.show()"
   ]
  },
  {
   "cell_type": "code",
   "execution_count": 5,
   "metadata": {},
   "outputs": [
    {
     "name": "stdout",
     "output_type": "stream",
     "text": [
      "[-3, 4, 0]\n"
     ]
    }
   ],
   "source": [
    "print(w[0])  # 输出权值"
   ]
  },
  {
   "cell_type": "code",
   "execution_count": null,
   "metadata": {},
   "outputs": [],
   "source": []
  }
 ],
 "metadata": {
  "kernelspec": {
   "display_name": "Python 3",
   "language": "python",
   "name": "python3"
  },
  "language_info": {
   "codemirror_mode": {
    "name": "ipython",
    "version": 3
   },
   "file_extension": ".py",
   "mimetype": "text/x-python",
   "name": "python",
   "nbconvert_exporter": "python",
   "pygments_lexer": "ipython3",
   "version": "3.7.1"
  }
 },
 "nbformat": 4,
 "nbformat_minor": 2
}
